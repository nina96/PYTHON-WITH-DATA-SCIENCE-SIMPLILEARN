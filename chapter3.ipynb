{
 "cells": [
  {
   "cell_type": "code",
   "execution_count": 2,
   "metadata": {},
   "outputs": [
    {
     "name": "stdout",
     "output_type": "stream",
     "text": [
      "This album is Amazing!\n"
     ]
    }
   ],
   "source": [
    "#condtions\n",
    "back_in_black=8.5\n",
    "\n",
    "if(back_in_black >8) :\n",
    "    print(\"This album is Amazing!\")\n",
    "else: \n",
    "    print(\"the album is ok\")    "
   ]
  },
  {
   "cell_type": "code",
   "execution_count": 3,
   "metadata": {},
   "outputs": [
    {
     "name": "stdout",
     "output_type": "stream",
     "text": [
      "this album came out already in year 1979\n"
     ]
    }
   ],
   "source": [
    "album_year = 1979\n",
    "\n",
    "if album_year < 1980 or album_year == 1991 or album_year == 1993:\n",
    "    print (\"this album came out already in year\", album_year)"
   ]
  },
  {
   "cell_type": "code",
   "execution_count": null,
   "metadata": {},
   "outputs": [],
   "source": [
    "#loops\n",
    "for i in range(-5,6):\n",
    "    print(i)\n",
    "  \n",
    " Genres=[ 'rock', 'R&B', 'Soundtrack', 'R&B', 'soul', 'pop']\n",
    "n=len(Genres)\n",
    "\n",
    "for i in range(n):\n",
    "    print(Genres[i])\n",
    "\n",
    "Genres = ['rock', 'R&B', 'Soundtrack', 'R&B', 'soul', 'pop']\n",
    "for Genre in Genres:\n",
    "    print(Genre)\n",
    "      \n",
    "squares=['red', 'yellow', 'green', 'purple', 'blue']\n",
    "\n",
    "for squares in squares:\n",
    "    print(squares)\n",
    "    \n",
    "    #while loop\n",
    "    \n",
    "PlayListRatings = [10, 9.5, 10, 8, 7.5, 5, 10, 10]\n",
    "\n",
    "i = 1\n",
    "Rating = PlayListRatings[0]\n",
    "while(Rating >= 6):\n",
    "    print(Rating)\n",
    "    Rating = PlayListRatings[i]\n",
    "    i = i + 1\n",
    "    \n",
    "    \n",
    "    \n",
    "squares = ['orange', 'orange', 'purple', 'blue ', 'orange']\n",
    "new_squares=[]\n",
    "i= 0;\n",
    "\n",
    "while(squares[i]==\"orange\"):\n",
    "    new_squares.append(squares[i])\n",
    "    i=i+1\n",
    "print(new_squares)\n"
   ]
  }
 ],
 "metadata": {
  "kernelspec": {
   "display_name": "Python 3",
   "language": "python",
   "name": "python3"
  },
  "language_info": {
   "codemirror_mode": {
    "name": "ipython",
    "version": 3
   },
   "file_extension": ".py",
   "mimetype": "text/x-python",
   "name": "python",
   "nbconvert_exporter": "python",
   "pygments_lexer": "ipython3",
   "version": "3.7.6"
  }
 },
 "nbformat": 4,
 "nbformat_minor": 4
}

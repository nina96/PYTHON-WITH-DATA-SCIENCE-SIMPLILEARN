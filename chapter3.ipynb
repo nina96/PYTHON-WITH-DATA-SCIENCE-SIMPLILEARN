{
 "cells": [
  {
   "cell_type": "code",
   "execution_count": 2,
   "metadata": {},
   "outputs": [
    {
     "name": "stdout",
     "output_type": "stream",
     "text": [
      "This album is Amazing!\n"
     ]
    }
   ],
   "source": [
    "#condtions\n",
    "back_in_black=8.5\n",
    "\n",
    "if(back_in_black >8) :\n",
    "    print(\"This album is Amazing!\")\n",
    "else: \n",
    "    print(\"the album is ok\")    "
   ]
  },
  {
   "cell_type": "code",
   "execution_count": 3,
   "metadata": {},
   "outputs": [
    {
     "name": "stdout",
     "output_type": "stream",
     "text": [
      "this album came out already in year 1979\n"
     ]
    }
   ],
   "source": [
    "album_year = 1979\n",
    "\n",
    "if album_year < 1980 or album_year == 1991 or album_year == 1993:\n",
    "    print (\"this album came out already in year\", album_year)"
   ]
  },
  {
   "cell_type": "code",
   "execution_count": 6,
   "metadata": {},
   "outputs": [
    {
     "name": "stdout",
     "output_type": "stream",
     "text": [
      "-5\n",
      "-4\n",
      "-3\n",
      "-2\n",
      "-1\n",
      "0\n",
      "1\n",
      "2\n",
      "3\n",
      "4\n",
      "5\n",
      "rock\n",
      "R&B\n",
      "Soundtrack\n",
      "R&B\n",
      "soul\n",
      "pop\n",
      "rock\n",
      "R&B\n",
      "Soundtrack\n",
      "R&B\n",
      "soul\n",
      "pop\n",
      "red\n",
      "yellow\n",
      "green\n",
      "purple\n",
      "blue\n",
      "10\n",
      "9.5\n",
      "10\n",
      "8\n",
      "7.5\n",
      "['orange', 'orange']\n"
     ]
    }
   ],
   "source": [
    "#loops\n",
    "for i in range(-5,6):\n",
    "    print(i)\n",
    "  \n",
    "\n",
    "Genres = [ 'rock', 'R&B', 'Soundtrack', 'R&B', 'soul', 'pop']\n",
    "n=len(Genres)\n",
    "\n",
    "for i in range(n):\n",
    "    print(Genres[i])\n",
    "\n",
    "Genres = ['rock', 'R&B', 'Soundtrack', 'R&B', 'soul', 'pop']\n",
    "for Genre in Genres:\n",
    "    print(Genre)\n",
    "      \n",
    "squares=['red', 'yellow', 'green', 'purple', 'blue']\n",
    "\n",
    "for squares in squares:\n",
    "    print(squares)\n",
    "    \n",
    "    #while loop\n",
    "    \n",
    "PlayListRatings = [10, 9.5, 10, 8, 7.5, 5, 10, 10]\n",
    "\n",
    "i = 1\n",
    "Rating = PlayListRatings[0]\n",
    "while(Rating >= 6):\n",
    "    print(Rating)\n",
    "    Rating = PlayListRatings[i]\n",
    "    i = i + 1\n",
    "    \n",
    "    \n",
    "    \n",
    "squares = ['orange', 'orange', 'purple', 'blue ', 'orange']\n",
    "new_squares=[]\n",
    "i= 0;\n",
    "\n",
    "while(squares[i]==\"orange\"):\n",
    "    new_squares.append(squares[i])\n",
    "    i=i+1\n",
    "print(new_squares)\n"
   ]
  },
  {
   "cell_type": "code",
   "execution_count": 7,
   "metadata": {},
   "outputs": [
    {
     "name": "stdout",
     "output_type": "stream",
     "text": [
      "2.0\n"
     ]
    }
   ],
   "source": [
    "# functions\n",
    "\n",
    "#function to divide\n",
    "def divide(a,b):\n",
    "    if(a>b):\n",
    "        return(a/b)\n",
    "    else:\n",
    "        return(b/a)\n",
    "    \n",
    "x=5\n",
    "y=10\n",
    "print(divide(x,y))\n",
    "\n"
   ]
  },
  {
   "cell_type": "code",
   "execution_count": 10,
   "metadata": {},
   "outputs": [
    {
     "data": {
      "image/png": "[encoded data removed]",
      "text/plain": [
       "<Figure size 432x288 with 1 Axes>"
      ]
     },
     "metadata": {
      "needs_background": "light"
     },
     "output_type": "display_data"
    }
   ],
   "source": [
    "#objects and classes\n",
    "\n",
    "import matplotlib.pyplot as plt\n",
    "%matplotlib inline  \n",
    "\n",
    "class Circle(object):\n",
    "    \n",
    "    # Constructor\n",
    "    def __init__(self, radius=3, color='blue'):\n",
    "        self.radius = radius\n",
    "        self.color = color \n",
    "    \n",
    "    # Method\n",
    "    def add_radius(self, r):\n",
    "        self.radius = self.radius + r\n",
    "        return(self.radius)\n",
    "    \n",
    "    # Method\n",
    "    def drawCircle(self):\n",
    "        plt.gca().add_patch(plt.Circle((0, 0), radius=self.radius, fc=self.color))\n",
    "        plt.axis('scaled')\n",
    "        plt.show()  \n",
    "        \n",
    "BlueCircle = Circle(radius=100)\n",
    "BlueCircle.drawCircle()"
   ]
  },
  {
   "cell_type": "code",
   "execution_count": 11,
   "metadata": {},
   "outputs": [
    {
     "data": {
      "image/png": "[encoded data removed]",
      "text/plain": [
       "<Figure size 432x288 with 1 Axes>"
      ]
     },
     "metadata": {
      "needs_background": "light"
     },
     "output_type": "display_data"
    },
    {
     "data": {
      "image/png": "[encoded data removed]",
      "text/plain": [
       "<Figure size 432x288 with 1 Axes>"
      ]
     },
     "metadata": {
      "needs_background": "light"
     },
     "output_type": "display_data"
    }
   ],
   "source": [
    "# Create a new Rectangle class for creating a rectangle object\n",
    "\n",
    "class Rectangle(object):\n",
    "    \n",
    "    # Constructor\n",
    "    def __init__(self, width=2, height=3, color='r'):\n",
    "        self.height = height \n",
    "        self.width = width\n",
    "        self.color = color\n",
    "    \n",
    "    # Method\n",
    "    def drawRectangle(self):\n",
    "        plt.gca().add_patch(plt.Rectangle((0, 0), self.width, self.height ,fc=self.color))\n",
    "        plt.axis('scaled')\n",
    "        plt.show()\n",
    "        \n",
    "SkinnyBlueRectangle = Rectangle(2, 10, 'blue')\n",
    "SkinnyBlueRectangle.drawRectangle()\n",
    "\n",
    "FatYellowRectangle = Rectangle(20, 5, 'yellow')\n",
    "FatYellowRectangle.drawRectangle()"
   ]
  },
  {
   "cell_type": "code",
   "execution_count": null,
   "metadata": {},
   "outputs": [],
   "source": []
  }
 ],
 "metadata": {
  "kernelspec": {
   "display_name": "Python 3",
   "language": "python",
   "name": "python3"
  },
  "language_info": {
   "codemirror_mode": {
    "name": "ipython",
    "version": 3
   },
   "file_extension": ".py",
   "mimetype": "text/x-python",
   "name": "python",
   "nbconvert_exporter": "python",
   "pygments_lexer": "ipython3",
   "version": "3.7.6"
  }
 },
 "nbformat": 4,
 "nbformat_minor": 4
}

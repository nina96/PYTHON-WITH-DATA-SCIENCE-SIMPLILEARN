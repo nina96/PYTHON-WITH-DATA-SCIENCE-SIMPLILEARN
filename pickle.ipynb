{
 "cells": [
  {
   "cell_type": "code",
   "execution_count": 2,
   "metadata": {},
   "outputs": [],
   "source": [
    "#using this program we will amke a log regression model and save it using pickle and create new object to match the outfit\n",
    "import pandas as pd\n",
    "import numpy as np\n",
    "from sklearn.datasets import load_iris\n",
    "iris_date= load_iris()"
   ]
  },
  {
   "cell_type": "code",
   "execution_count": 5,
   "metadata": {},
   "outputs": [
    {
     "data": {
      "text/plain": [
       "['sepal length (cm)',\n",
       " 'sepal width (cm)',\n",
       " 'petal length (cm)',\n",
       " 'petal width (cm)']"
      ]
     },
     "execution_count": 5,
     "metadata": {},
     "output_type": "execute_result"
    }
   ],
   "source": [
    "iris_date['feature_names']"
   ]
  },
  {
   "cell_type": "code",
   "execution_count": 6,
   "metadata": {},
   "outputs": [
    {
     "data": {
      "text/plain": [
       "array([0, 0, 0, 0, 0, 0, 0, 0, 0, 0, 0, 0, 0, 0, 0, 0, 0, 0, 0, 0, 0, 0,\n",
       "       0, 0, 0, 0, 0, 0, 0, 0, 0, 0, 0, 0, 0, 0, 0, 0, 0, 0, 0, 0, 0, 0,\n",
       "       0, 0, 0, 0, 0, 0, 1, 1, 1, 1, 1, 1, 1, 1, 1, 1, 1, 1, 1, 1, 1, 1,\n",
       "       1, 1, 1, 1, 1, 1, 1, 1, 1, 1, 1, 1, 1, 1, 1, 1, 1, 1, 1, 1, 1, 1,\n",
       "       1, 1, 1, 1, 1, 1, 1, 1, 1, 1, 1, 1, 2, 2, 2, 2, 2, 2, 2, 2, 2, 2,\n",
       "       2, 2, 2, 2, 2, 2, 2, 2, 2, 2, 2, 2, 2, 2, 2, 2, 2, 2, 2, 2, 2, 2,\n",
       "       2, 2, 2, 2, 2, 2, 2, 2, 2, 2, 2, 2, 2, 2, 2, 2, 2, 2])"
      ]
     },
     "execution_count": 6,
     "metadata": {},
     "output_type": "execute_result"
    }
   ],
   "source": [
    "iris_date['target']"
   ]
  },
  {
   "cell_type": "code",
   "execution_count": 7,
   "metadata": {},
   "outputs": [],
   "source": [
    "#defining x and y axis as features and targets\n",
    "x_axis= iris_date.data\n",
    "y_axis= iris_date.target"
   ]
  },
  {
   "cell_type": "code",
   "execution_count": 9,
   "metadata": {},
   "outputs": [],
   "source": [
    "x_new=[(3,5,4,1),(5,3,4,2)]"
   ]
  },
  {
   "cell_type": "code",
   "execution_count": 12,
   "metadata": {},
   "outputs": [],
   "source": [
    "from sklearn.linear_model import LogisticRegression\n",
    "log_reg= LogisticRegression(solver='lbfgs', max_iter=500)"
   ]
  },
  {
   "cell_type": "code",
   "execution_count": 13,
   "metadata": {},
   "outputs": [
    {
     "data": {
      "text/plain": [
       "LogisticRegression(max_iter=500)"
      ]
     },
     "execution_count": 13,
     "metadata": {},
     "output_type": "execute_result"
    }
   ],
   "source": [
    "log_reg.fit(x_axis,y_axis)"
   ]
  },
  {
   "cell_type": "code",
   "execution_count": 19,
   "metadata": {},
   "outputs": [
    {
     "data": {
      "text/plain": [
       "array([0, 1])"
      ]
     },
     "execution_count": 19,
     "metadata": {},
     "output_type": "execute_result"
    }
   ],
   "source": [
    "log_reg.predict(x_new)"
   ]
  },
  {
   "cell_type": "code",
   "execution_count": 24,
   "metadata": {},
   "outputs": [
    {
     "data": {
      "text/plain": [
       "b'\\x80\\x04\\x95\\x05\\x03\\x00\\x00\\x00\\x00\\x00\\x00\\x8c\\x1esklearn.linear_model._logistic\\x94\\x8c\\x12LogisticRegression\\x94\\x93\\x94)\\x81\\x94}\\x94(\\x8c\\x07penalty\\x94\\x8c\\x02l2\\x94\\x8c\\x04dual\\x94\\x89\\x8c\\x03tol\\x94G?\\x1a6\\xe2\\xeb\\x1cC-\\x8c\\x01C\\x94G?\\xf0\\x00\\x00\\x00\\x00\\x00\\x00\\x8c\\rfit_intercept\\x94\\x88\\x8c\\x11intercept_scaling\\x94K\\x01\\x8c\\x0cclass_weight\\x94N\\x8c\\x0crandom_state\\x94N\\x8c\\x06solver\\x94\\x8c\\x05lbfgs\\x94\\x8c\\x08max_iter\\x94M\\xf4\\x01\\x8c\\x0bmulti_class\\x94\\x8c\\x04auto\\x94\\x8c\\x07verbose\\x94K\\x00\\x8c\\nwarm_start\\x94\\x89\\x8c\\x06n_jobs\\x94N\\x8c\\x08l1_ratio\\x94N\\x8c\\x0en_features_in_\\x94K\\x04\\x8c\\x08classes_\\x94\\x8c\\x15numpy.core.multiarray\\x94\\x8c\\x0c_reconstruct\\x94\\x93\\x94\\x8c\\x05numpy\\x94\\x8c\\x07ndarray\\x94\\x93\\x94K\\x00\\x85\\x94C\\x01b\\x94\\x87\\x94R\\x94(K\\x01K\\x03\\x85\\x94h\\x1c\\x8c\\x05dtype\\x94\\x93\\x94\\x8c\\x02i4\\x94\\x89\\x88\\x87\\x94R\\x94(K\\x03\\x8c\\x01<\\x94NNNJ\\xff\\xff\\xff\\xffJ\\xff\\xff\\xff\\xffK\\x00t\\x94b\\x89C\\x0c\\x00\\x00\\x00\\x00\\x01\\x00\\x00\\x00\\x02\\x00\\x00\\x00\\x94t\\x94b\\x8c\\x05coef_\\x94h\\x1bh\\x1eK\\x00\\x85\\x94h \\x87\\x94R\\x94(K\\x01K\\x03K\\x04\\x86\\x94h%\\x8c\\x02f8\\x94\\x89\\x88\\x87\\x94R\\x94(K\\x03h)NNNJ\\xff\\xff\\xff\\xffJ\\xff\\xff\\xff\\xffK\\x00t\\x94b\\x89C`R\\xc0\\x0bN\\x16\\x1b\\xdb\\xbf\\x88\\xfc[kB\\xf5\\xee?J\\xf1\\x03\\xf0\\x1a\"\\x04\\xc0\\x00j\\x0edRJ\\xf1\\xbf\\xf7xaz\\xde\\x19\\xe1?p,\\xef,\\xa5\\x97\\xd4\\xbf\\x13\\xee\\x93\\xcb\\xf1p\\xca\\xbfa\\xf9\\xb8\\xb1\\xd12\\xee\\xbf\\xcf\\xbe\\xdc\\x9a\\x9ab\\xbc\\xbf\\x0ff\\xe4\\xd4o\\xa9\\xe4\\xbfZ0\\xbd\\x0c*\\xc9\\x05@Osu\\x9e\\xdd1\\x00@\\x94t\\x94b\\x8c\\nintercept_\\x94h\\x1bh\\x1eK\\x00\\x85\\x94h \\x87\\x94R\\x94(K\\x01K\\x03\\x85\\x94h4\\x89C\\x18Z\\xdc-\\x94\\xb5\\xb2#@u\\x7f\\xd8\\x1eW\\xe7\\x01@f\\xfc\\xe3[\\x8b,(\\xc0\\x94t\\x94b\\x8c\\x07n_iter_\\x94h\\x1bh\\x1eK\\x00\\x85\\x94h \\x87\\x94R\\x94(K\\x01K\\x01\\x85\\x94h(\\x89C\\x04x\\x00\\x00\\x00\\x94t\\x94b\\x8c\\x10_sklearn_version\\x94\\x8c\\x060.23.1\\x94ub.'"
      ]
     },
     "execution_count": 24,
     "metadata": {},
     "output_type": "execute_result"
    }
   ],
   "source": [
    "#importing pickles to save te model\n",
    "import pickle as pk\n",
    "persist_mod=pk.dumps(log_reg)\n",
    "persist_mod"
   ]
  },
  {
   "cell_type": "code",
   "execution_count": 30,
   "metadata": {},
   "outputs": [
    {
     "data": {
      "text/plain": [
       "['logregress.pk']"
      ]
     },
     "execution_count": 30,
     "metadata": {},
     "output_type": "execute_result"
    }
   ],
   "source": [
    "import joblib\n",
    "joblib.dump(log_reg,'logregress.pk')"
   ]
  },
  {
   "cell_type": "code",
   "execution_count": 34,
   "metadata": {},
   "outputs": [
    {
     "data": {
      "text/plain": [
       "LogisticRegression(max_iter=500)"
      ]
     },
     "execution_count": 34,
     "metadata": {},
     "output_type": "execute_result"
    }
   ],
   "source": [
    "new_check=joblib.load('logregress.pk')\n",
    "new_check\n"
   ]
  },
  {
   "cell_type": "code",
   "execution_count": 35,
   "metadata": {},
   "outputs": [
    {
     "data": {
      "text/plain": [
       "array([0, 1])"
      ]
     },
     "execution_count": 35,
     "metadata": {},
     "output_type": "execute_result"
    }
   ],
   "source": [
    "new_check.predict(x_new)"
   ]
  },
  {
   "cell_type": "code",
   "execution_count": null,
   "metadata": {},
   "outputs": [],
   "source": []
  }
 ],
 "metadata": {
  "kernelspec": {
   "display_name": "Python 3",
   "language": "python",
   "name": "python3"
  },
  "language_info": {
   "codemirror_mode": {
    "name": "ipython",
    "version": 3
   },
   "file_extension": ".py",
   "mimetype": "text/x-python",
   "name": "python",
   "nbconvert_exporter": "python",
   "pygments_lexer": "ipython3",
   "version": "3.8.5"
  }
 },
 "nbformat": 4,
 "nbformat_minor": 4
}
